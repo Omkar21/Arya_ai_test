{
 "cells": [
  {
   "cell_type": "code",
   "execution_count": 277,
   "metadata": {},
   "outputs": [],
   "source": [
    "# Importing the libraries\n",
    "import pandas as pd\n",
    "from sklearn import preprocessing\n",
    "from sklearn.decomposition import PCA\n",
    "from sklearn import model_selection\n",
    "from sklearn.linear_model import LogisticRegression\n",
    "from sklearn .naive_bayes import GaussianNB\n",
    "from sklearn.neighbors import KNeighborsClassifier\n",
    "from sklearn.ensemble import RandomForestClassifier\n",
    "from sklearn.tree import DecisionTreeClassifier\n",
    "from sklearn import svm\n",
    "from sklearn.utils import shuffle\n",
    "import pickle\n",
    "from sklearn.metrics import confusion_matrix\n",
    "import seaborn as sns\n",
    "from matplotlib import pyplot\n",
    "import sklearn.metrics as metrics\n",
    "\n"
   ]
  },
  {
   "cell_type": "code",
   "execution_count": 263,
   "metadata": {},
   "outputs": [],
   "source": [
    "# Importing the dataset\n",
    "dataset = pd.read_csv('./training_set.csv')\n",
    "shuffledfinalDataWithLabel=shuffle(dataset)\n",
    "X = shuffledfinalDataWithLabel.iloc[:, :-1].values\n",
    "y = shuffledfinalDataWithLabel.iloc[:, -1].values\n"
   ]
  },
  {
   "cell_type": "code",
   "execution_count": 264,
   "metadata": {},
   "outputs": [],
   "source": [
    "#fetching the data from test set\n",
    "X_test = pd.read_csv('./test_set.csv')\n"
   ]
  },
  {
   "cell_type": "code",
   "execution_count": 265,
   "metadata": {},
   "outputs": [
    {
     "name": "stdout",
     "output_type": "stream",
     "text": [
      "Expained Variance: [0.11032044 0.05668818 0.03531712 0.02807364 0.02646588 0.02532699\n",
      " 0.02442058 0.0239889  0.02260899 0.02216932 0.02113136 0.01986013\n",
      " 0.01927929 0.01913494 0.01869326 0.01856993 0.01840098 0.01782817\n",
      " 0.01761592 0.01749538 0.01730195 0.0171877  0.01675396 0.0164784\n",
      " 0.01632573 0.01597516 0.01579398 0.01543322 0.01521828 0.01499275\n",
      " 0.01435389 0.01388541 0.01363471 0.01358603 0.01318864]\n",
      "Expained Variance Sum: 0.793499242937409\n"
     ]
    }
   ],
   "source": [
    "#applying PCA and standerd scalling on training data\n",
    "pca_matrix = principalComponentAnalysis(X)"
   ]
  },
  {
   "cell_type": "code",
   "execution_count": 266,
   "metadata": {},
   "outputs": [],
   "source": [
    "#method to apply scalling and PCA\n",
    "def principalComponentAnalysis(feature_matrix):\n",
    "    '''\n",
    "    Performs Standardization of Data\n",
    "    '''\n",
    "    #print(feature_matrix)\n",
    "    std_scaler=preprocessing.StandardScaler()\n",
    "    std_feature_matrix = std_scaler.fit_transform(feature_matrix)\n",
    "    std_feature_matrix = pd.DataFrame(std_feature_matrix)\n",
    "    \n",
    "    pca = PCA(n_components=35)\n",
    "    principalComponents = pca.fit_transform(std_feature_matrix)\n",
    "    file = open(\"PCA.pkl\", 'wb')\n",
    "    pickle.dump(pca, file)\n",
    "    file.close()\n",
    "    print('Expained Variance:',pca.explained_variance_ratio_)\n",
    "    print('Expained Variance Sum:',pca.explained_variance_ratio_.sum())\n",
    "    return principalComponents"
   ]
  },
  {
   "cell_type": "code",
   "execution_count": 267,
   "metadata": {},
   "outputs": [],
   "source": [
    "#K-fold validation to select classification model\n",
    "def kFoldCrossValidation(X_train,Y_train):\n",
    "\n",
    "    kfold = model_selection.KFold(n_splits=10)\n",
    "#    model = LogisticRegression()      \n",
    "#    model = GaussianNB()  \n",
    "#    model = svm.NuSVC(gamma='auto')  \n",
    "#    model = KNeighborsClassifier(n_neighbors=10, algorithm='auto' )  \n",
    "    model = RandomForestClassifier() \n",
    "#    model = DecisionTreeClassifier()  \n",
    "    \n",
    "    results = model_selection.cross_val_score(model, X_train, Y_train, cv=kfold)\n",
    "    print(\"Accuracy after KFold Cross Validation: %.3f%% \" % (results.mean()*100.0)) "
   ]
  },
  {
   "cell_type": "code",
   "execution_count": 273,
   "metadata": {},
   "outputs": [],
   "source": [
    "#method to train the model\n",
    "def model_test(X_train, X_test, Y_train, Y_test):\n",
    "\n",
    "#    kfold = model_selection.KFold(n_splits=10, random_state=42)\n",
    "#    model = LogisticRegression()   \n",
    "#    model = GaussianNB()  #61.893%   \n",
    "#    model = svm.NuSVC(gamma='auto')  \n",
    "#    model = KNeighborsClassifier(n_neighbors=10, algorithm='auto' ) \n",
    "    model = RandomForestClassifier()    \n",
    "#    model = DecisionTreeClassifier()     \n",
    "    model.fit(X_train, Y_train)\n",
    "    filename = 'finalModel.pkl'\n",
    "    pickle.dump(model, open(filename, 'wb'))\n",
    "    y_pred=model.predict(X_test)\n",
    "    result = model.score(X_test, Y_test)\n",
    "#     print(\"Confusion matrix :\")\n",
    "#     print(confusion_matrix(Y_test, y_pred))\n",
    "    confusion_matrix = metrics.confusion_matrix(y_true=Y_test, y_pred=y_pred)\n",
    "    figure = pyplot.figure(figsize=(8, 8))\n",
    "    sns.heatmap(confusion_matrix, annot=False,cmap=pyplot.cm.Blues)\n",
    "    pyplot.tight_layout()\n",
    "    pyplot.ylabel('True label')\n",
    "    pyplot.xlabel('Predicted label')\n",
    "    pyplot.imshow(confusion_matrix)\n",
    "    print(\"Accuracy of Trained Model: %.3f%% \" % (result*100.0))"
   ]
  },
  {
   "cell_type": "code",
   "execution_count": 274,
   "metadata": {},
   "outputs": [],
   "source": [
    "#dividing input data in 4:1 ratio\n",
    "test_size = 0.2\n",
    "seed = 42    \n",
    "\n",
    "#splitting the dataset\n",
    "X_train, X_validate, Y_train, Y_validate = model_selection.train_test_split(pca_matrix, y, test_size=test_size, random_state=seed)"
   ]
  },
  {
   "cell_type": "code",
   "execution_count": 275,
   "metadata": {},
   "outputs": [
    {
     "name": "stdout",
     "output_type": "stream",
     "text": [
      "Accuracy after KFold Cross Validation: 91.976% \n"
     ]
    }
   ],
   "source": [
    "#calling k fold validation to select clasiifier\n",
    "kFoldCrossValidation(X_train,Y_train)"
   ]
  },
  {
   "cell_type": "code",
   "execution_count": 278,
   "metadata": {},
   "outputs": [
    {
     "name": "stdout",
     "output_type": "stream",
     "text": [
      "Accuracy of Trained Model: 93.095% \n"
     ]
    },
    {
     "data": {
      "image/png": "[encoded data removed]",
      "text/plain": [
       "<Figure size 576x576 with 2 Axes>"
      ]
     },
     "metadata": {
      "needs_background": "light"
     },
     "output_type": "display_data"
    }
   ],
   "source": [
    "#training model\n",
    "model_test(X_train, X_validate, Y_train, Y_validate)"
   ]
  },
  {
   "cell_type": "code",
   "execution_count": 251,
   "metadata": {},
   "outputs": [
    {
     "name": "stdout",
     "output_type": "stream",
     "text": [
      "\n",
      "The predicted results are as follows:\n",
      "[0 1 1 1 1 0 1 1 1 1 0 0 0 0 0 0 0 0 1 0 1 1 1 0 1 0 1 1 0 0 1 0 0 0 0 0 0\n",
      " 0 0 1 1 0 0 0 0 1 0 0 0 1 1 0 0 1 1 1 0 0 0 1 1 0 0 1 1 1 1 1 0 0 0 0 0 1\n",
      " 1 1 0 0 0 0 0 1 1 1 0 0 0 0 1 0 0 0 0 0 0 0 1 0 1 1 0 0 0 1 1 0 0 0 0 1 0\n",
      " 0 0 1 1 0 0 0 0 0 0 0 0 0 1 0 0 1 0 1 1 0 0 0 1 0 0 1 0 1 0 0 0 0 0 1 1 0\n",
      " 1 1 0 1 1 0 0 0 1 1 0 0 1 0 0 0 1 0 0 0 0 0 0 1 1 1 0 0 1 0 1 1 0 0 0 1 0\n",
      " 0 1 0 0 1 1 1 1 1 1 1 0 0 0 1 0 1 0 0 0 1 1 0 1 0 1 1 0 1 0 0 0 0 0 1 0 1\n",
      " 0 0 0 0 1 0 0 0 0 0 0 0 0 0 1 0 1 0 0 0 0 0 0 0 0 0 0 1 0 1 0 0 0 0 1 0 1\n",
      " 1 0 0 1 0 1 0 0 0 1 0 0 1 1 0 1 1 0 0 0 0 0 0 1 0 1 0 0 1 0 0 1 0 0 1 0 0\n",
      " 0 0 0 1 0 1 0 0 1 0 0 1 0 1 0 1 1 0 1 0 0 0 0 0 0 0 0 1 0 1 0 1 0 0 0 1 0\n",
      " 0 1 0 0 0 0 0 0 0 0 1 0 0 1 0 0 0 0 1 0 0 1 0 0 0 1 1 0 0 0 0 0 0 1 0 1 1\n",
      " 1 1 0 0 1 0 0 1 1 1 1 1 0 0 0 0 1 0 0 1 1 1 1 1 1 1 0 0 0 1 1 1 1 1 1 0 0\n",
      " 1 0 0 0 1 1 0 0 0 0 0 0 1 1 1 0 0 1 0 0 0 0 0 1 0 0 0 0 0 0 1 1 0 1 1 1 0\n",
      " 0 0 0 1 0 0 0 1 1 0 0 1 0 0 1 1 0 0 1 0 0 1 0 0 1 1 0 1 1 0 1 1 1 1 1 1 0\n",
      " 0 1 0 0 0 0 0 0 0 0 1 0 0 0 1 1 0 1 0 0 1 0 0 1 0 1 0 1 0 0 0 0 1 0 1 0 1\n",
      " 0 0 0 0 1 1 0 0 0 0 0 0 0 0 0 0 0 1 0 0 0 0 0 0 0 0 0 0 0 0 0 0 0 1 1 0 0\n",
      " 0 1 0 1 1 1 1 0 1 0 0 0 0 0 0 0 1 1 1 0 0 0 0 0 0 1 1 1 0 0 0 1 1 0 0 1 0\n",
      " 1 1 1 1 0 1 0 0 0 1 1 0 1 0 0 0 0 1 1 1 0 0 0 0 1 1 0 1 1 0 0 0 1 1 0 0 1\n",
      " 0 0 0 1 0 0 1 0 1 1 0 1 0 1 0 1 0 0 0 1 0 1 0 0 0 0 0 1 1 0 1 1 1 1 1 0 0\n",
      " 0 0 1 1 1 1 1 0 0 1 0 1 0 0 0 1 1 0 1 0 0 0 0 0 0]\n"
     ]
    }
   ],
   "source": [
    "file = open('PCA.pkl', 'rb')\n",
    "pca = pickle.load(file)\n",
    "file.close()  \n",
    "std_scaler=preprocessing.StandardScaler()\n",
    "std_feature_matrix = std_scaler.fit_transform(X_test)\n",
    "std_feature_matrix = pd.DataFrame(std_feature_matrix)\n",
    "X_PCA_test=pca.transform(std_feature_matrix)\n",
    "\n",
    "loaded_model = pickle.load(open('finalModel.pkl', 'rb'))\n",
    "y_pred=loaded_model.predict(X_PCA_test)\n",
    "\n",
    "#predicting the output for test dataset\n",
    "print(\"\\nThe predicted results are as follows:\")\n",
    "print(y_pred)\n"
   ]
  },
  {
   "cell_type": "code",
   "execution_count": null,
   "metadata": {},
   "outputs": [],
   "source": []
  }
 ],
 "metadata": {
  "kernelspec": {
   "display_name": "Python 3",
   "language": "python",
   "name": "python3"
  },
  "language_info": {
   "codemirror_mode": {
    "name": "ipython",
    "version": 3
   },
   "file_extension": ".py",
   "mimetype": "text/x-python",
   "name": "python",
   "nbconvert_exporter": "python",
   "pygments_lexer": "ipython3",
   "version": "3.7.6"
  }
 },
 "nbformat": 4,
 "nbformat_minor": 4
}
